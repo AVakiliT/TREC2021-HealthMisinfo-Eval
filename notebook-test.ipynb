{
 "cells": [
  {
   "cell_type": "code",
   "execution_count": 173,
   "metadata": {
    "collapsed": true,
    "pycharm": {
     "name": "#%%\n"
    }
   },
   "outputs": [],
   "source": [
    "import pandas as pd\n",
    "import xmltodict\n",
    "\n",
    "with open('topics.xml')as f:\n",
    "    topics = xmltodict.parse(f.read())['topics']['topic']"
   ]
  },
  {
   "cell_type": "code",
   "execution_count": 174,
   "outputs": [],
   "source": [
    "qrels = pd.read_csv('misinfo-qrels.for-R.txt', sep='\\t')"
   ],
   "metadata": {
    "collapsed": false,
    "pycharm": {
     "name": "#%%\n"
    }
   }
  },
  {
   "cell_type": "code",
   "execution_count": 175,
   "outputs": [],
   "source": [
    "def d_gi(x):\n",
    "    n_yes = x.eq('yes').sum()\n",
    "    n_no = x.eq('no').sum()\n",
    "    n = n_yes + n_no\n",
    "    p_yes = n_yes / n\n",
    "    p_no = n_no / n\n",
    "    return (p_no * p_yes) * 4\n",
    "\n",
    "def c_gi(x):\n",
    "    n_yes = x.eq('credible').sum()\n",
    "    n_no = x.eq('not.credible').sum()\n",
    "    n = n_yes + n_no\n",
    "    p_yes = n_yes / n\n",
    "    p_no = n_no / n\n",
    "    return (p_no * p_yes) * 4"
   ],
   "metadata": {
    "collapsed": false,
    "pycharm": {
     "name": "#%%\n"
    }
   }
  },
  {
   "cell_type": "code",
   "execution_count": 176,
   "outputs": [
    {
     "name": "stderr",
     "output_type": "stream",
     "text": [
      "<ipython-input-175-b13aaf59d693>:5: RuntimeWarning:\n",
      "\n",
      "invalid value encountered in longlong_scalars\n",
      "\n",
      "<ipython-input-175-b13aaf59d693>:6: RuntimeWarning:\n",
      "\n",
      "invalid value encountered in longlong_scalars\n",
      "\n"
     ]
    },
    {
     "data": {
      "text/plain": "                                                       desc answer  count  \\\ntopic.id                                                                    \n1                              Can vitamin D cure COVID-19?     no    436   \n2                              Can vitamin C cure COVID-19?     no    441   \n3                         Can BCG vaccine prevent COVID-19?     no    409   \n4                            Can ibuprofen worsen COVID-19?     no    466   \n5                 Can gargling salt water prevent COVID-19?     no    405   \n6                                 Can Ginger cure COVID-19?     no    470   \n7                           Can 5G antennas cause COVID-19?     no    509   \n8                          Can herbal tea prevent COVID-19?     no    423   \n9                    Can convalescent plasma cure COVID-19?     no    494   \n10               Can pneumococcal vaccine prevent COVID-19?     no    472   \n11                Can female sex hormones prevent COVID-19?     no    431   \n12                    Can dextromethorphan worsen COVID-19?    yes     18   \n13                      Can wearing masks prevent COVID-19?    yes    505   \n14                    Can drinking cow urine cure COVID-19?     no    409   \n15                  Can social distancing prevent COVID-19?    yes    611   \n16                            Can vinegar prevent COVID-19?     no    460   \n17                   Can convalescent plasma cure COVID-19?     no    488   \n18                   Can lopinavir-ritonavir cure COVID-19?     no    443   \n19                              Can ayurveda cure COVID-19?     no    406   \n20               Can exposure to UV light prevent COVID-19?     no    479   \n21                       Can black seed oil treat COVID-19?     no    525   \n22                               Can Tamiflu help COVID-19?     no    455   \n23                  Can burning neem leaves treat COVID-19?     no    452   \n24                    Can drinking alcohol worsen COVID-19?    yes    534   \n25        Can high temperatures and humidity prevent COV...     no    512   \n26                            Can remdesivir cure COVID-19?     no    502   \n27                             Can turmeric treat COVID-19?     no    479   \n28                  Can a vegetarian diet prevent COVID-19?     no    469   \n29                 Can getting a flu shot prevent COVID-19?     no    472   \n30                        Can ACE and ARBs worsen COVID-19?     no    418   \n31                            Can smoking prevent COVID-19?     no    458   \n32                 Can having type O blood prevent COVID-19     no    466   \n34                        Can handwashing prevent COVID-19?    yes    551   \n36                              Can Cannabis help COVID-19?     no    571   \n37                  Can Hydroxychloroquine worsen COVID-19?    yes    537   \n38                 Can monoclonal antibodies cure COVID-19?     no    515   \n39                             Can bleach prevent COVID-19?    yes    500   \n40                        Can breast milk prevent COVID-19?     no    431   \n41                        Can Hib vaccine prevent COVID-19?     no    514   \n42                              Can inhalers help COVID-19?     no    520   \n43                            Can Omega-3 prevent COVID-19?     no    541   \n44                                  Can IVIG cure COVID-19?     no    452   \n45                         Can remestemcel-l cure COVID-19?     no    393   \n47           Can Homemade Vodka Sanitizer prevent COVID-19?     no    478   \n49                          Can Echinacea prevent COVID-19?     no    395   \n50               Can drinking lemon water prevent COVID-19?     no    431   \n\n          credible  not_credible  doc_answer_yes  doc_answer_no  \\\ntopic.id                                                          \n1              268            45              11            140   \n2              161            25              25            109   \n3              138            13               0              0   \n4              235             2               1             15   \n5              121            10               0             88   \n6               89            44              30             65   \n7              124            33              35            107   \n8              199             8               7            164   \n9              192           186              37              9   \n10              88             2               1             86   \n11             103             1               0              0   \n12               5             0               4              0   \n13             280            65             251             60   \n14              65            95              32            111   \n15             138            24             148              6   \n16             116             1               1             57   \n17             429             1              76              0   \n18             264             9               3             65   \n19              11           200              74             65   \n20             104            82              30             83   \n21               5            26               0              1   \n22              37             1               6             30   \n23              16             1               0             16   \n24              19            27              46              0   \n25             292            13              42             95   \n26             425             6               0              0   \n27               1            34              11             23   \n28               0            33              15             15   \n29             140             1               0            115   \n30              60           112               6             67   \n31              91            29              21              7   \n32              96             1               0              0   \n34             327            23             298              0   \n36              80             9               0             33   \n37             180             2              86              0   \n38              30            30               9              0   \n39             176             0               2            135   \n40              32             6              11              6   \n41             148             3               3            148   \n42             168             0               0              0   \n43               3             2               1              1   \n44               1            10               7              0   \n45              30             0              28              0   \n47             266            19              13            241   \n49              48            61              53             32   \n50              95            25              15            103   \n\n          doc_answer_impurity  credibility_impurity  \ntopic.id                                             \n1                    0.270164              0.492401  \n2                    0.607039              0.465372  \n3                    0.000000              0.314723  \n4                    0.234375              0.033470  \n5                    0.000000              0.282035  \n6                    0.864266              0.885522  \n7                    0.742908              0.664043  \n8                    0.157040              0.148615  \n9                    0.629490              0.999748  \n10                   0.045449              0.086914  \n11                   0.000000              0.038092  \n12                   0.000000              0.000000  \n13                   0.622822              0.611636  \n14                   0.694802              0.964844  \n15                   0.149772              0.504801  \n16                   0.067776              0.033896  \n17                   0.000000              0.009281  \n18                   0.168685              0.127521  \n19                   0.995808              0.197660  \n20                   0.780014              0.986010  \n21                   0.000000              0.541103  \n22                   0.555556              0.102493  \n23                   0.000000              0.221453  \n24                   0.000000              0.969754  \n25                   0.850338              0.163225  \n26                   0.000000              0.054909  \n27                   0.875433              0.111020  \n28                   1.000000              0.000000  \n29                   0.000000              0.028168  \n30                   0.301745              0.908599  \n31                   0.750000              0.733056  \n32                   0.000000              0.040812  \n34                   0.000000              0.245584  \n36                   0.000000              0.363590  \n37                   0.000000              0.043473  \n38                   0.000000              1.000000  \n39                   0.057542              0.000000  \n40                   0.913495              0.531856  \n41                   0.077891              0.077891  \n42                   0.000000              0.000000  \n43                   1.000000              0.960000  \n44                   0.000000              0.330579  \n45                   0.000000              0.000000  \n47                   0.194246              0.248889  \n49                   0.938962              0.985776  \n50                   0.443838              0.659722  ",
      "text/html": "<div>\n<style scoped>\n    .dataframe tbody tr th:only-of-type {\n        vertical-align: middle;\n    }\n\n    .dataframe tbody tr th {\n        vertical-align: top;\n    }\n\n    .dataframe thead th {\n        text-align: right;\n    }\n</style>\n<table border=\"1\" class=\"dataframe\">\n  <thead>\n    <tr style=\"text-align: right;\">\n      <th></th>\n      <th>desc</th>\n      <th>answer</th>\n      <th>count</th>\n      <th>credible</th>\n      <th>not_credible</th>\n      <th>doc_answer_yes</th>\n      <th>doc_answer_no</th>\n      <th>doc_answer_impurity</th>\n      <th>credibility_impurity</th>\n    </tr>\n    <tr>\n      <th>topic.id</th>\n      <th></th>\n      <th></th>\n      <th></th>\n      <th></th>\n      <th></th>\n      <th></th>\n      <th></th>\n      <th></th>\n      <th></th>\n    </tr>\n  </thead>\n  <tbody>\n    <tr>\n      <th>1</th>\n      <td>Can vitamin D cure COVID-19?</td>\n      <td>no</td>\n      <td>436</td>\n      <td>268</td>\n      <td>45</td>\n      <td>11</td>\n      <td>140</td>\n      <td>0.270164</td>\n      <td>0.492401</td>\n    </tr>\n    <tr>\n      <th>2</th>\n      <td>Can vitamin C cure COVID-19?</td>\n      <td>no</td>\n      <td>441</td>\n      <td>161</td>\n      <td>25</td>\n      <td>25</td>\n      <td>109</td>\n      <td>0.607039</td>\n      <td>0.465372</td>\n    </tr>\n    <tr>\n      <th>3</th>\n      <td>Can BCG vaccine prevent COVID-19?</td>\n      <td>no</td>\n      <td>409</td>\n      <td>138</td>\n      <td>13</td>\n      <td>0</td>\n      <td>0</td>\n      <td>0.000000</td>\n      <td>0.314723</td>\n    </tr>\n    <tr>\n      <th>4</th>\n      <td>Can ibuprofen worsen COVID-19?</td>\n      <td>no</td>\n      <td>466</td>\n      <td>235</td>\n      <td>2</td>\n      <td>1</td>\n      <td>15</td>\n      <td>0.234375</td>\n      <td>0.033470</td>\n    </tr>\n    <tr>\n      <th>5</th>\n      <td>Can gargling salt water prevent COVID-19?</td>\n      <td>no</td>\n      <td>405</td>\n      <td>121</td>\n      <td>10</td>\n      <td>0</td>\n      <td>88</td>\n      <td>0.000000</td>\n      <td>0.282035</td>\n    </tr>\n    <tr>\n      <th>6</th>\n      <td>Can Ginger cure COVID-19?</td>\n      <td>no</td>\n      <td>470</td>\n      <td>89</td>\n      <td>44</td>\n      <td>30</td>\n      <td>65</td>\n      <td>0.864266</td>\n      <td>0.885522</td>\n    </tr>\n    <tr>\n      <th>7</th>\n      <td>Can 5G antennas cause COVID-19?</td>\n      <td>no</td>\n      <td>509</td>\n      <td>124</td>\n      <td>33</td>\n      <td>35</td>\n      <td>107</td>\n      <td>0.742908</td>\n      <td>0.664043</td>\n    </tr>\n    <tr>\n      <th>8</th>\n      <td>Can herbal tea prevent COVID-19?</td>\n      <td>no</td>\n      <td>423</td>\n      <td>199</td>\n      <td>8</td>\n      <td>7</td>\n      <td>164</td>\n      <td>0.157040</td>\n      <td>0.148615</td>\n    </tr>\n    <tr>\n      <th>9</th>\n      <td>Can convalescent plasma cure COVID-19?</td>\n      <td>no</td>\n      <td>494</td>\n      <td>192</td>\n      <td>186</td>\n      <td>37</td>\n      <td>9</td>\n      <td>0.629490</td>\n      <td>0.999748</td>\n    </tr>\n    <tr>\n      <th>10</th>\n      <td>Can pneumococcal vaccine prevent COVID-19?</td>\n      <td>no</td>\n      <td>472</td>\n      <td>88</td>\n      <td>2</td>\n      <td>1</td>\n      <td>86</td>\n      <td>0.045449</td>\n      <td>0.086914</td>\n    </tr>\n    <tr>\n      <th>11</th>\n      <td>Can female sex hormones prevent COVID-19?</td>\n      <td>no</td>\n      <td>431</td>\n      <td>103</td>\n      <td>1</td>\n      <td>0</td>\n      <td>0</td>\n      <td>0.000000</td>\n      <td>0.038092</td>\n    </tr>\n    <tr>\n      <th>12</th>\n      <td>Can dextromethorphan worsen COVID-19?</td>\n      <td>yes</td>\n      <td>18</td>\n      <td>5</td>\n      <td>0</td>\n      <td>4</td>\n      <td>0</td>\n      <td>0.000000</td>\n      <td>0.000000</td>\n    </tr>\n    <tr>\n      <th>13</th>\n      <td>Can wearing masks prevent COVID-19?</td>\n      <td>yes</td>\n      <td>505</td>\n      <td>280</td>\n      <td>65</td>\n      <td>251</td>\n      <td>60</td>\n      <td>0.622822</td>\n      <td>0.611636</td>\n    </tr>\n    <tr>\n      <th>14</th>\n      <td>Can drinking cow urine cure COVID-19?</td>\n      <td>no</td>\n      <td>409</td>\n      <td>65</td>\n      <td>95</td>\n      <td>32</td>\n      <td>111</td>\n      <td>0.694802</td>\n      <td>0.964844</td>\n    </tr>\n    <tr>\n      <th>15</th>\n      <td>Can social distancing prevent COVID-19?</td>\n      <td>yes</td>\n      <td>611</td>\n      <td>138</td>\n      <td>24</td>\n      <td>148</td>\n      <td>6</td>\n      <td>0.149772</td>\n      <td>0.504801</td>\n    </tr>\n    <tr>\n      <th>16</th>\n      <td>Can vinegar prevent COVID-19?</td>\n      <td>no</td>\n      <td>460</td>\n      <td>116</td>\n      <td>1</td>\n      <td>1</td>\n      <td>57</td>\n      <td>0.067776</td>\n      <td>0.033896</td>\n    </tr>\n    <tr>\n      <th>17</th>\n      <td>Can convalescent plasma cure COVID-19?</td>\n      <td>no</td>\n      <td>488</td>\n      <td>429</td>\n      <td>1</td>\n      <td>76</td>\n      <td>0</td>\n      <td>0.000000</td>\n      <td>0.009281</td>\n    </tr>\n    <tr>\n      <th>18</th>\n      <td>Can lopinavir-ritonavir cure COVID-19?</td>\n      <td>no</td>\n      <td>443</td>\n      <td>264</td>\n      <td>9</td>\n      <td>3</td>\n      <td>65</td>\n      <td>0.168685</td>\n      <td>0.127521</td>\n    </tr>\n    <tr>\n      <th>19</th>\n      <td>Can ayurveda cure COVID-19?</td>\n      <td>no</td>\n      <td>406</td>\n      <td>11</td>\n      <td>200</td>\n      <td>74</td>\n      <td>65</td>\n      <td>0.995808</td>\n      <td>0.197660</td>\n    </tr>\n    <tr>\n      <th>20</th>\n      <td>Can exposure to UV light prevent COVID-19?</td>\n      <td>no</td>\n      <td>479</td>\n      <td>104</td>\n      <td>82</td>\n      <td>30</td>\n      <td>83</td>\n      <td>0.780014</td>\n      <td>0.986010</td>\n    </tr>\n    <tr>\n      <th>21</th>\n      <td>Can black seed oil treat COVID-19?</td>\n      <td>no</td>\n      <td>525</td>\n      <td>5</td>\n      <td>26</td>\n      <td>0</td>\n      <td>1</td>\n      <td>0.000000</td>\n      <td>0.541103</td>\n    </tr>\n    <tr>\n      <th>22</th>\n      <td>Can Tamiflu help COVID-19?</td>\n      <td>no</td>\n      <td>455</td>\n      <td>37</td>\n      <td>1</td>\n      <td>6</td>\n      <td>30</td>\n      <td>0.555556</td>\n      <td>0.102493</td>\n    </tr>\n    <tr>\n      <th>23</th>\n      <td>Can burning neem leaves treat COVID-19?</td>\n      <td>no</td>\n      <td>452</td>\n      <td>16</td>\n      <td>1</td>\n      <td>0</td>\n      <td>16</td>\n      <td>0.000000</td>\n      <td>0.221453</td>\n    </tr>\n    <tr>\n      <th>24</th>\n      <td>Can drinking alcohol worsen COVID-19?</td>\n      <td>yes</td>\n      <td>534</td>\n      <td>19</td>\n      <td>27</td>\n      <td>46</td>\n      <td>0</td>\n      <td>0.000000</td>\n      <td>0.969754</td>\n    </tr>\n    <tr>\n      <th>25</th>\n      <td>Can high temperatures and humidity prevent COV...</td>\n      <td>no</td>\n      <td>512</td>\n      <td>292</td>\n      <td>13</td>\n      <td>42</td>\n      <td>95</td>\n      <td>0.850338</td>\n      <td>0.163225</td>\n    </tr>\n    <tr>\n      <th>26</th>\n      <td>Can remdesivir cure COVID-19?</td>\n      <td>no</td>\n      <td>502</td>\n      <td>425</td>\n      <td>6</td>\n      <td>0</td>\n      <td>0</td>\n      <td>0.000000</td>\n      <td>0.054909</td>\n    </tr>\n    <tr>\n      <th>27</th>\n      <td>Can turmeric treat COVID-19?</td>\n      <td>no</td>\n      <td>479</td>\n      <td>1</td>\n      <td>34</td>\n      <td>11</td>\n      <td>23</td>\n      <td>0.875433</td>\n      <td>0.111020</td>\n    </tr>\n    <tr>\n      <th>28</th>\n      <td>Can a vegetarian diet prevent COVID-19?</td>\n      <td>no</td>\n      <td>469</td>\n      <td>0</td>\n      <td>33</td>\n      <td>15</td>\n      <td>15</td>\n      <td>1.000000</td>\n      <td>0.000000</td>\n    </tr>\n    <tr>\n      <th>29</th>\n      <td>Can getting a flu shot prevent COVID-19?</td>\n      <td>no</td>\n      <td>472</td>\n      <td>140</td>\n      <td>1</td>\n      <td>0</td>\n      <td>115</td>\n      <td>0.000000</td>\n      <td>0.028168</td>\n    </tr>\n    <tr>\n      <th>30</th>\n      <td>Can ACE and ARBs worsen COVID-19?</td>\n      <td>no</td>\n      <td>418</td>\n      <td>60</td>\n      <td>112</td>\n      <td>6</td>\n      <td>67</td>\n      <td>0.301745</td>\n      <td>0.908599</td>\n    </tr>\n    <tr>\n      <th>31</th>\n      <td>Can smoking prevent COVID-19?</td>\n      <td>no</td>\n      <td>458</td>\n      <td>91</td>\n      <td>29</td>\n      <td>21</td>\n      <td>7</td>\n      <td>0.750000</td>\n      <td>0.733056</td>\n    </tr>\n    <tr>\n      <th>32</th>\n      <td>Can having type O blood prevent COVID-19</td>\n      <td>no</td>\n      <td>466</td>\n      <td>96</td>\n      <td>1</td>\n      <td>0</td>\n      <td>0</td>\n      <td>0.000000</td>\n      <td>0.040812</td>\n    </tr>\n    <tr>\n      <th>34</th>\n      <td>Can handwashing prevent COVID-19?</td>\n      <td>yes</td>\n      <td>551</td>\n      <td>327</td>\n      <td>23</td>\n      <td>298</td>\n      <td>0</td>\n      <td>0.000000</td>\n      <td>0.245584</td>\n    </tr>\n    <tr>\n      <th>36</th>\n      <td>Can Cannabis help COVID-19?</td>\n      <td>no</td>\n      <td>571</td>\n      <td>80</td>\n      <td>9</td>\n      <td>0</td>\n      <td>33</td>\n      <td>0.000000</td>\n      <td>0.363590</td>\n    </tr>\n    <tr>\n      <th>37</th>\n      <td>Can Hydroxychloroquine worsen COVID-19?</td>\n      <td>yes</td>\n      <td>537</td>\n      <td>180</td>\n      <td>2</td>\n      <td>86</td>\n      <td>0</td>\n      <td>0.000000</td>\n      <td>0.043473</td>\n    </tr>\n    <tr>\n      <th>38</th>\n      <td>Can monoclonal antibodies cure COVID-19?</td>\n      <td>no</td>\n      <td>515</td>\n      <td>30</td>\n      <td>30</td>\n      <td>9</td>\n      <td>0</td>\n      <td>0.000000</td>\n      <td>1.000000</td>\n    </tr>\n    <tr>\n      <th>39</th>\n      <td>Can bleach prevent COVID-19?</td>\n      <td>yes</td>\n      <td>500</td>\n      <td>176</td>\n      <td>0</td>\n      <td>2</td>\n      <td>135</td>\n      <td>0.057542</td>\n      <td>0.000000</td>\n    </tr>\n    <tr>\n      <th>40</th>\n      <td>Can breast milk prevent COVID-19?</td>\n      <td>no</td>\n      <td>431</td>\n      <td>32</td>\n      <td>6</td>\n      <td>11</td>\n      <td>6</td>\n      <td>0.913495</td>\n      <td>0.531856</td>\n    </tr>\n    <tr>\n      <th>41</th>\n      <td>Can Hib vaccine prevent COVID-19?</td>\n      <td>no</td>\n      <td>514</td>\n      <td>148</td>\n      <td>3</td>\n      <td>3</td>\n      <td>148</td>\n      <td>0.077891</td>\n      <td>0.077891</td>\n    </tr>\n    <tr>\n      <th>42</th>\n      <td>Can inhalers help COVID-19?</td>\n      <td>no</td>\n      <td>520</td>\n      <td>168</td>\n      <td>0</td>\n      <td>0</td>\n      <td>0</td>\n      <td>0.000000</td>\n      <td>0.000000</td>\n    </tr>\n    <tr>\n      <th>43</th>\n      <td>Can Omega-3 prevent COVID-19?</td>\n      <td>no</td>\n      <td>541</td>\n      <td>3</td>\n      <td>2</td>\n      <td>1</td>\n      <td>1</td>\n      <td>1.000000</td>\n      <td>0.960000</td>\n    </tr>\n    <tr>\n      <th>44</th>\n      <td>Can IVIG cure COVID-19?</td>\n      <td>no</td>\n      <td>452</td>\n      <td>1</td>\n      <td>10</td>\n      <td>7</td>\n      <td>0</td>\n      <td>0.000000</td>\n      <td>0.330579</td>\n    </tr>\n    <tr>\n      <th>45</th>\n      <td>Can remestemcel-l cure COVID-19?</td>\n      <td>no</td>\n      <td>393</td>\n      <td>30</td>\n      <td>0</td>\n      <td>28</td>\n      <td>0</td>\n      <td>0.000000</td>\n      <td>0.000000</td>\n    </tr>\n    <tr>\n      <th>47</th>\n      <td>Can Homemade Vodka Sanitizer prevent COVID-19?</td>\n      <td>no</td>\n      <td>478</td>\n      <td>266</td>\n      <td>19</td>\n      <td>13</td>\n      <td>241</td>\n      <td>0.194246</td>\n      <td>0.248889</td>\n    </tr>\n    <tr>\n      <th>49</th>\n      <td>Can Echinacea prevent COVID-19?</td>\n      <td>no</td>\n      <td>395</td>\n      <td>48</td>\n      <td>61</td>\n      <td>53</td>\n      <td>32</td>\n      <td>0.938962</td>\n      <td>0.985776</td>\n    </tr>\n    <tr>\n      <th>50</th>\n      <td>Can drinking lemon water prevent COVID-19?</td>\n      <td>no</td>\n      <td>431</td>\n      <td>95</td>\n      <td>25</td>\n      <td>15</td>\n      <td>103</td>\n      <td>0.443838</td>\n      <td>0.659722</td>\n    </tr>\n  </tbody>\n</table>\n</div>"
     },
     "execution_count": 176,
     "metadata": {},
     "output_type": "execute_result"
    }
   ],
   "source": [
    "df = qrels.groupby('topic.id').agg(\n",
    "    count=('topic.id', 'count'),\n",
    "    doc_answer_yes=('doc.answer', lambda x: x.eq('yes').sum()),\n",
    "    doc_answer_no=('doc.answer', lambda x: x.eq('no').sum()),\n",
    "    credible=('credibility', lambda x: x.eq('credible').sum()),\n",
    "    not_credible=('credibility', lambda x: x.eq('not.credible').sum()),\n",
    "    doc_answer_impurity=('doc.answer', d_gi),\n",
    "    credibility_impurity=('credibility', c_gi)\n",
    ")\n",
    "\n",
    "df = df.fillna(0)\n",
    "\n",
    "answer = pd.Series({int(x['number']) : x['answer'] for x in topics}).rename('answer').rename_axis('topic.id')\n",
    "desc = pd.Series({int(x['number']) : x['description'] for x in topics}).rename('desc').rename_axis('topic.id')\n",
    "\n",
    "df['answer'] = answer\n",
    "df['desc'] = desc\n",
    "\n",
    "#\n",
    "df = df[['desc', 'answer', 'count', 'credible', 'not_credible',\n",
    "         'doc_answer_yes', 'doc_answer_no',\n",
    "         'doc_answer_impurity', 'credibility_impurity']]\n",
    "\n",
    "df"
   ],
   "metadata": {
    "collapsed": false,
    "pycharm": {
     "name": "#%%\n"
    }
   }
  },
  {
   "cell_type": "code",
   "execution_count": 177,
   "outputs": [
    {
     "data": {
      "application/vnd.plotly.v1+json": {
       "config": {
        "plotlyServerURL": "https://plot.ly"
       },
       "data": [
        {
         "customdata": [
          [
           1,
           "no",
           436
          ],
          [
           2,
           "no",
           441
          ],
          [
           3,
           "no",
           409
          ],
          [
           4,
           "no",
           466
          ],
          [
           5,
           "no",
           405
          ],
          [
           6,
           "no",
           470
          ],
          [
           7,
           "no",
           509
          ],
          [
           8,
           "no",
           423
          ],
          [
           9,
           "no",
           494
          ],
          [
           10,
           "no",
           472
          ],
          [
           11,
           "no",
           431
          ],
          [
           14,
           "no",
           409
          ],
          [
           16,
           "no",
           460
          ],
          [
           17,
           "no",
           488
          ],
          [
           18,
           "no",
           443
          ],
          [
           19,
           "no",
           406
          ],
          [
           20,
           "no",
           479
          ],
          [
           21,
           "no",
           525
          ],
          [
           22,
           "no",
           455
          ],
          [
           23,
           "no",
           452
          ],
          [
           25,
           "no",
           512
          ],
          [
           26,
           "no",
           502
          ],
          [
           27,
           "no",
           479
          ],
          [
           28,
           "no",
           469
          ],
          [
           29,
           "no",
           472
          ],
          [
           30,
           "no",
           418
          ],
          [
           31,
           "no",
           458
          ],
          [
           32,
           "no",
           466
          ],
          [
           36,
           "no",
           571
          ],
          [
           38,
           "no",
           515
          ],
          [
           40,
           "no",
           431
          ],
          [
           41,
           "no",
           514
          ],
          [
           42,
           "no",
           520
          ],
          [
           43,
           "no",
           541
          ],
          [
           44,
           "no",
           452
          ],
          [
           45,
           "no",
           393
          ],
          [
           47,
           "no",
           478
          ],
          [
           49,
           "no",
           395
          ],
          [
           50,
           "no",
           431
          ]
         ],
         "hovertemplate": "<b>%{hovertext}</b><br><br>answer=%{customdata[1]}<br>doc_answer_impurity=%{x}<br>credibility_impurity=%{y}<br>topic.id=%{customdata[0]}<br>count=%{customdata[2]}<extra></extra>",
         "hovertext": [
          "Can vitamin D cure COVID-19?",
          "Can vitamin C cure COVID-19?",
          "Can BCG vaccine prevent COVID-19?",
          "Can ibuprofen worsen COVID-19?",
          "Can gargling salt water prevent COVID-19?",
          "Can Ginger cure COVID-19?",
          "Can 5G antennas cause COVID-19?",
          "Can herbal tea prevent COVID-19?",
          "Can convalescent plasma cure COVID-19?",
          "Can pneumococcal vaccine prevent COVID-19?",
          "Can female sex hormones prevent COVID-19?",
          "Can drinking cow urine cure COVID-19?",
          "Can vinegar prevent COVID-19?",
          "Can convalescent plasma cure COVID-19?",
          "Can lopinavir-ritonavir cure COVID-19?",
          "Can ayurveda cure COVID-19?",
          "Can exposure to UV light prevent COVID-19?",
          "Can black seed oil treat COVID-19?",
          "Can Tamiflu help COVID-19?",
          "Can burning neem leaves treat COVID-19?",
          "Can high temperatures and humidity prevent COVID-19?",
          "Can remdesivir cure COVID-19?",
          "Can turmeric treat COVID-19?",
          "Can a vegetarian diet prevent COVID-19?",
          "Can getting a flu shot prevent COVID-19?",
          "Can ACE and ARBs worsen COVID-19?",
          "Can smoking prevent COVID-19?",
          "Can having type O blood prevent COVID-19",
          "Can Cannabis help COVID-19?",
          "Can monoclonal antibodies cure COVID-19?",
          "Can breast milk prevent COVID-19?",
          "Can Hib vaccine prevent COVID-19?",
          "Can inhalers help COVID-19?",
          "Can Omega-3 prevent COVID-19?",
          "Can IVIG cure COVID-19?",
          "Can remestemcel-l cure COVID-19?",
          "Can Homemade Vodka Sanitizer prevent COVID-19?",
          "Can Echinacea prevent COVID-19?",
          "Can drinking lemon water prevent COVID-19?"
         ],
         "legendgroup": "no",
         "marker": {
          "color": "#636efa",
          "symbol": "circle"
         },
         "mode": "markers",
         "name": "no",
         "orientation": "v",
         "showlegend": true,
         "type": "scatter",
         "x": [
          0.27016358931625806,
          0.6070394297170862,
          0.0,
          0.234375,
          0.0,
          0.8642659279778393,
          0.7429081531442174,
          0.1570397729215827,
          0.6294896030245747,
          0.04544854009776721,
          0.0,
          0.6948017017947088,
          0.06777645659928656,
          0.0,
          0.16868512110726647,
          0.9958076704104343,
          0.7800140966403009,
          0.0,
          0.5555555555555556,
          0.0,
          0.8503383238318505,
          0.0,
          0.8754325259515572,
          1.0,
          0.0,
          0.3017451679489585,
          0.75,
          0.0,
          0.0,
          0.0,
          0.9134948096885814,
          0.07789132055611596,
          0.0,
          1.0,
          0.0,
          0.0,
          0.19424638849277698,
          0.938961937716263,
          0.44383797759264576
         ],
         "xaxis": "x",
         "y": [
          0.4924006573507947,
          0.46537171927390447,
          0.3147230384632253,
          0.03347041962648436,
          0.2820348464541693,
          0.8855220758663576,
          0.6640431660513612,
          0.14861490349833134,
          0.9997480473670949,
          0.08691358024691358,
          0.03809171597633136,
          0.96484375,
          0.03389582876762364,
          0.009280692266089777,
          0.12752083081753413,
          0.1976595314570652,
          0.9860099433460515,
          0.5411030176899063,
          0.10249307479224376,
          0.22145328719723184,
          0.16322493953238376,
          0.05490926513100166,
          0.1110204081632653,
          0.0,
          0.02816759720335999,
          0.9085992428339644,
          0.7330555555555556,
          0.04081198852162823,
          0.3635904557505365,
          1.0,
          0.5318559556786703,
          0.07789132055611596,
          0.0,
          0.96,
          0.3305785123966942,
          0.0,
          0.24888888888888888,
          0.9857756081137952,
          0.6597222222222222
         ],
         "yaxis": "y"
        },
        {
         "customdata": [
          [
           12,
           "yes",
           18
          ],
          [
           13,
           "yes",
           505
          ],
          [
           15,
           "yes",
           611
          ],
          [
           24,
           "yes",
           534
          ],
          [
           34,
           "yes",
           551
          ],
          [
           37,
           "yes",
           537
          ],
          [
           39,
           "yes",
           500
          ]
         ],
         "hovertemplate": "<b>%{hovertext}</b><br><br>answer=%{customdata[1]}<br>doc_answer_impurity=%{x}<br>credibility_impurity=%{y}<br>topic.id=%{customdata[0]}<br>count=%{customdata[2]}<extra></extra>",
         "hovertext": [
          "Can dextromethorphan worsen COVID-19?",
          "Can wearing masks prevent COVID-19?",
          "Can social distancing prevent COVID-19?",
          "Can drinking alcohol worsen COVID-19?",
          "Can handwashing prevent COVID-19?",
          "Can Hydroxychloroquine worsen COVID-19?",
          "Can bleach prevent COVID-19?"
         ],
         "legendgroup": "yes",
         "marker": {
          "color": "#EF553B",
          "symbol": "circle"
         },
         "mode": "markers",
         "name": "yes",
         "orientation": "v",
         "showlegend": true,
         "type": "scatter",
         "x": [
          0.0,
          0.6228223446821269,
          0.14977230561646146,
          0.0,
          0.0,
          0.0,
          0.057541691086365816
         ],
         "xaxis": "x",
         "y": [
          0.0,
          0.6116362108800673,
          0.50480109739369,
          0.9697542533081286,
          0.24558367346938775,
          0.043473010505977544,
          0.0
         ],
         "yaxis": "y"
        }
       ],
       "layout": {
        "legend": {
         "title": {
          "text": "answer"
         },
         "tracegroupgap": 0
        },
        "margin": {
         "t": 60
        },
        "template": {
         "data": {
          "bar": [
           {
            "error_x": {
             "color": "#2a3f5f"
            },
            "error_y": {
             "color": "#2a3f5f"
            },
            "marker": {
             "line": {
              "color": "#E5ECF6",
              "width": 0.5
             }
            },
            "type": "bar"
           }
          ],
          "barpolar": [
           {
            "marker": {
             "line": {
              "color": "#E5ECF6",
              "width": 0.5
             }
            },
            "type": "barpolar"
           }
          ],
          "carpet": [
           {
            "aaxis": {
             "endlinecolor": "#2a3f5f",
             "gridcolor": "white",
             "linecolor": "white",
             "minorgridcolor": "white",
             "startlinecolor": "#2a3f5f"
            },
            "baxis": {
             "endlinecolor": "#2a3f5f",
             "gridcolor": "white",
             "linecolor": "white",
             "minorgridcolor": "white",
             "startlinecolor": "#2a3f5f"
            },
            "type": "carpet"
           }
          ],
          "choropleth": [
           {
            "colorbar": {
             "outlinewidth": 0,
             "ticks": ""
            },
            "type": "choropleth"
           }
          ],
          "contour": [
           {
            "colorbar": {
             "outlinewidth": 0,
             "ticks": ""
            },
            "colorscale": [
             [
              0.0,
              "#0d0887"
             ],
             [
              0.1111111111111111,
              "#46039f"
             ],
             [
              0.2222222222222222,
              "#7201a8"
             ],
             [
              0.3333333333333333,
              "#9c179e"
             ],
             [
              0.4444444444444444,
              "#bd3786"
             ],
             [
              0.5555555555555556,
              "#d8576b"
             ],
             [
              0.6666666666666666,
              "#ed7953"
             ],
             [
              0.7777777777777778,
              "#fb9f3a"
             ],
             [
              0.8888888888888888,
              "#fdca26"
             ],
             [
              1.0,
              "#f0f921"
             ]
            ],
            "type": "contour"
           }
          ],
          "contourcarpet": [
           {
            "colorbar": {
             "outlinewidth": 0,
             "ticks": ""
            },
            "type": "contourcarpet"
           }
          ],
          "heatmap": [
           {
            "colorbar": {
             "outlinewidth": 0,
             "ticks": ""
            },
            "colorscale": [
             [
              0.0,
              "#0d0887"
             ],
             [
              0.1111111111111111,
              "#46039f"
             ],
             [
              0.2222222222222222,
              "#7201a8"
             ],
             [
              0.3333333333333333,
              "#9c179e"
             ],
             [
              0.4444444444444444,
              "#bd3786"
             ],
             [
              0.5555555555555556,
              "#d8576b"
             ],
             [
              0.6666666666666666,
              "#ed7953"
             ],
             [
              0.7777777777777778,
              "#fb9f3a"
             ],
             [
              0.8888888888888888,
              "#fdca26"
             ],
             [
              1.0,
              "#f0f921"
             ]
            ],
            "type": "heatmap"
           }
          ],
          "heatmapgl": [
           {
            "colorbar": {
             "outlinewidth": 0,
             "ticks": ""
            },
            "colorscale": [
             [
              0.0,
              "#0d0887"
             ],
             [
              0.1111111111111111,
              "#46039f"
             ],
             [
              0.2222222222222222,
              "#7201a8"
             ],
             [
              0.3333333333333333,
              "#9c179e"
             ],
             [
              0.4444444444444444,
              "#bd3786"
             ],
             [
              0.5555555555555556,
              "#d8576b"
             ],
             [
              0.6666666666666666,
              "#ed7953"
             ],
             [
              0.7777777777777778,
              "#fb9f3a"
             ],
             [
              0.8888888888888888,
              "#fdca26"
             ],
             [
              1.0,
              "#f0f921"
             ]
            ],
            "type": "heatmapgl"
           }
          ],
          "histogram": [
           {
            "marker": {
             "colorbar": {
              "outlinewidth": 0,
              "ticks": ""
             }
            },
            "type": "histogram"
           }
          ],
          "histogram2d": [
           {
            "colorbar": {
             "outlinewidth": 0,
             "ticks": ""
            },
            "colorscale": [
             [
              0.0,
              "#0d0887"
             ],
             [
              0.1111111111111111,
              "#46039f"
             ],
             [
              0.2222222222222222,
              "#7201a8"
             ],
             [
              0.3333333333333333,
              "#9c179e"
             ],
             [
              0.4444444444444444,
              "#bd3786"
             ],
             [
              0.5555555555555556,
              "#d8576b"
             ],
             [
              0.6666666666666666,
              "#ed7953"
             ],
             [
              0.7777777777777778,
              "#fb9f3a"
             ],
             [
              0.8888888888888888,
              "#fdca26"
             ],
             [
              1.0,
              "#f0f921"
             ]
            ],
            "type": "histogram2d"
           }
          ],
          "histogram2dcontour": [
           {
            "colorbar": {
             "outlinewidth": 0,
             "ticks": ""
            },
            "colorscale": [
             [
              0.0,
              "#0d0887"
             ],
             [
              0.1111111111111111,
              "#46039f"
             ],
             [
              0.2222222222222222,
              "#7201a8"
             ],
             [
              0.3333333333333333,
              "#9c179e"
             ],
             [
              0.4444444444444444,
              "#bd3786"
             ],
             [
              0.5555555555555556,
              "#d8576b"
             ],
             [
              0.6666666666666666,
              "#ed7953"
             ],
             [
              0.7777777777777778,
              "#fb9f3a"
             ],
             [
              0.8888888888888888,
              "#fdca26"
             ],
             [
              1.0,
              "#f0f921"
             ]
            ],
            "type": "histogram2dcontour"
           }
          ],
          "mesh3d": [
           {
            "colorbar": {
             "outlinewidth": 0,
             "ticks": ""
            },
            "type": "mesh3d"
           }
          ],
          "parcoords": [
           {
            "line": {
             "colorbar": {
              "outlinewidth": 0,
              "ticks": ""
             }
            },
            "type": "parcoords"
           }
          ],
          "pie": [
           {
            "automargin": true,
            "type": "pie"
           }
          ],
          "scatter": [
           {
            "marker": {
             "colorbar": {
              "outlinewidth": 0,
              "ticks": ""
             }
            },
            "type": "scatter"
           }
          ],
          "scatter3d": [
           {
            "line": {
             "colorbar": {
              "outlinewidth": 0,
              "ticks": ""
             }
            },
            "marker": {
             "colorbar": {
              "outlinewidth": 0,
              "ticks": ""
             }
            },
            "type": "scatter3d"
           }
          ],
          "scattercarpet": [
           {
            "marker": {
             "colorbar": {
              "outlinewidth": 0,
              "ticks": ""
             }
            },
            "type": "scattercarpet"
           }
          ],
          "scattergeo": [
           {
            "marker": {
             "colorbar": {
              "outlinewidth": 0,
              "ticks": ""
             }
            },
            "type": "scattergeo"
           }
          ],
          "scattergl": [
           {
            "marker": {
             "colorbar": {
              "outlinewidth": 0,
              "ticks": ""
             }
            },
            "type": "scattergl"
           }
          ],
          "scattermapbox": [
           {
            "marker": {
             "colorbar": {
              "outlinewidth": 0,
              "ticks": ""
             }
            },
            "type": "scattermapbox"
           }
          ],
          "scatterpolar": [
           {
            "marker": {
             "colorbar": {
              "outlinewidth": 0,
              "ticks": ""
             }
            },
            "type": "scatterpolar"
           }
          ],
          "scatterpolargl": [
           {
            "marker": {
             "colorbar": {
              "outlinewidth": 0,
              "ticks": ""
             }
            },
            "type": "scatterpolargl"
           }
          ],
          "scatterternary": [
           {
            "marker": {
             "colorbar": {
              "outlinewidth": 0,
              "ticks": ""
             }
            },
            "type": "scatterternary"
           }
          ],
          "surface": [
           {
            "colorbar": {
             "outlinewidth": 0,
             "ticks": ""
            },
            "colorscale": [
             [
              0.0,
              "#0d0887"
             ],
             [
              0.1111111111111111,
              "#46039f"
             ],
             [
              0.2222222222222222,
              "#7201a8"
             ],
             [
              0.3333333333333333,
              "#9c179e"
             ],
             [
              0.4444444444444444,
              "#bd3786"
             ],
             [
              0.5555555555555556,
              "#d8576b"
             ],
             [
              0.6666666666666666,
              "#ed7953"
             ],
             [
              0.7777777777777778,
              "#fb9f3a"
             ],
             [
              0.8888888888888888,
              "#fdca26"
             ],
             [
              1.0,
              "#f0f921"
             ]
            ],
            "type": "surface"
           }
          ],
          "table": [
           {
            "cells": {
             "fill": {
              "color": "#EBF0F8"
             },
             "line": {
              "color": "white"
             }
            },
            "header": {
             "fill": {
              "color": "#C8D4E3"
             },
             "line": {
              "color": "white"
             }
            },
            "type": "table"
           }
          ]
         },
         "layout": {
          "annotationdefaults": {
           "arrowcolor": "#2a3f5f",
           "arrowhead": 0,
           "arrowwidth": 1
          },
          "autotypenumbers": "strict",
          "coloraxis": {
           "colorbar": {
            "outlinewidth": 0,
            "ticks": ""
           }
          },
          "colorscale": {
           "diverging": [
            [
             0,
             "#8e0152"
            ],
            [
             0.1,
             "#c51b7d"
            ],
            [
             0.2,
             "#de77ae"
            ],
            [
             0.3,
             "#f1b6da"
            ],
            [
             0.4,
             "#fde0ef"
            ],
            [
             0.5,
             "#f7f7f7"
            ],
            [
             0.6,
             "#e6f5d0"
            ],
            [
             0.7,
             "#b8e186"
            ],
            [
             0.8,
             "#7fbc41"
            ],
            [
             0.9,
             "#4d9221"
            ],
            [
             1,
             "#276419"
            ]
           ],
           "sequential": [
            [
             0.0,
             "#0d0887"
            ],
            [
             0.1111111111111111,
             "#46039f"
            ],
            [
             0.2222222222222222,
             "#7201a8"
            ],
            [
             0.3333333333333333,
             "#9c179e"
            ],
            [
             0.4444444444444444,
             "#bd3786"
            ],
            [
             0.5555555555555556,
             "#d8576b"
            ],
            [
             0.6666666666666666,
             "#ed7953"
            ],
            [
             0.7777777777777778,
             "#fb9f3a"
            ],
            [
             0.8888888888888888,
             "#fdca26"
            ],
            [
             1.0,
             "#f0f921"
            ]
           ],
           "sequentialminus": [
            [
             0.0,
             "#0d0887"
            ],
            [
             0.1111111111111111,
             "#46039f"
            ],
            [
             0.2222222222222222,
             "#7201a8"
            ],
            [
             0.3333333333333333,
             "#9c179e"
            ],
            [
             0.4444444444444444,
             "#bd3786"
            ],
            [
             0.5555555555555556,
             "#d8576b"
            ],
            [
             0.6666666666666666,
             "#ed7953"
            ],
            [
             0.7777777777777778,
             "#fb9f3a"
            ],
            [
             0.8888888888888888,
             "#fdca26"
            ],
            [
             1.0,
             "#f0f921"
            ]
           ]
          },
          "colorway": [
           "#636efa",
           "#EF553B",
           "#00cc96",
           "#ab63fa",
           "#FFA15A",
           "#19d3f3",
           "#FF6692",
           "#B6E880",
           "#FF97FF",
           "#FECB52"
          ],
          "font": {
           "color": "#2a3f5f"
          },
          "geo": {
           "bgcolor": "white",
           "lakecolor": "white",
           "landcolor": "#E5ECF6",
           "showlakes": true,
           "showland": true,
           "subunitcolor": "white"
          },
          "hoverlabel": {
           "align": "left"
          },
          "hovermode": "closest",
          "mapbox": {
           "style": "light"
          },
          "paper_bgcolor": "white",
          "plot_bgcolor": "#E5ECF6",
          "polar": {
           "angularaxis": {
            "gridcolor": "white",
            "linecolor": "white",
            "ticks": ""
           },
           "bgcolor": "#E5ECF6",
           "radialaxis": {
            "gridcolor": "white",
            "linecolor": "white",
            "ticks": ""
           }
          },
          "scene": {
           "xaxis": {
            "backgroundcolor": "#E5ECF6",
            "gridcolor": "white",
            "gridwidth": 2,
            "linecolor": "white",
            "showbackground": true,
            "ticks": "",
            "zerolinecolor": "white"
           },
           "yaxis": {
            "backgroundcolor": "#E5ECF6",
            "gridcolor": "white",
            "gridwidth": 2,
            "linecolor": "white",
            "showbackground": true,
            "ticks": "",
            "zerolinecolor": "white"
           },
           "zaxis": {
            "backgroundcolor": "#E5ECF6",
            "gridcolor": "white",
            "gridwidth": 2,
            "linecolor": "white",
            "showbackground": true,
            "ticks": "",
            "zerolinecolor": "white"
           }
          },
          "shapedefaults": {
           "line": {
            "color": "#2a3f5f"
           }
          },
          "ternary": {
           "aaxis": {
            "gridcolor": "white",
            "linecolor": "white",
            "ticks": ""
           },
           "baxis": {
            "gridcolor": "white",
            "linecolor": "white",
            "ticks": ""
           },
           "bgcolor": "#E5ECF6",
           "caxis": {
            "gridcolor": "white",
            "linecolor": "white",
            "ticks": ""
           }
          },
          "title": {
           "x": 0.05
          },
          "xaxis": {
           "automargin": true,
           "gridcolor": "white",
           "linecolor": "white",
           "ticks": "",
           "title": {
            "standoff": 15
           },
           "zerolinecolor": "white",
           "zerolinewidth": 2
          },
          "yaxis": {
           "automargin": true,
           "gridcolor": "white",
           "linecolor": "white",
           "ticks": "",
           "title": {
            "standoff": 15
           },
           "zerolinecolor": "white",
           "zerolinewidth": 2
          }
         }
        },
        "xaxis": {
         "anchor": "y",
         "domain": [
          0.0,
          1.0
         ],
         "title": {
          "text": "doc_answer_impurity"
         }
        },
        "yaxis": {
         "anchor": "x",
         "domain": [
          0.0,
          1.0
         ],
         "title": {
          "text": "credibility_impurity"
         }
        }
       }
      },
      "text/html": "<div>                            <div id=\"15536c93-cafe-4586-a1d0-03b1611c6020\" class=\"plotly-graph-div\" style=\"height:525px; width:100%;\"></div>            <script type=\"text/javascript\">                require([\"plotly\"], function(Plotly) {                    window.PLOTLYENV=window.PLOTLYENV || {};                                    if (document.getElementById(\"15536c93-cafe-4586-a1d0-03b1611c6020\")) {                    Plotly.newPlot(                        \"15536c93-cafe-4586-a1d0-03b1611c6020\",                        [{\"customdata\": [[1, \"no\", 436], [2, \"no\", 441], [3, \"no\", 409], [4, \"no\", 466], [5, \"no\", 405], [6, \"no\", 470], [7, \"no\", 509], [8, \"no\", 423], [9, \"no\", 494], [10, \"no\", 472], [11, \"no\", 431], [14, \"no\", 409], [16, \"no\", 460], [17, \"no\", 488], [18, \"no\", 443], [19, \"no\", 406], [20, \"no\", 479], [21, \"no\", 525], [22, \"no\", 455], [23, \"no\", 452], [25, \"no\", 512], [26, \"no\", 502], [27, \"no\", 479], [28, \"no\", 469], [29, \"no\", 472], [30, \"no\", 418], [31, \"no\", 458], [32, \"no\", 466], [36, \"no\", 571], [38, \"no\", 515], [40, \"no\", 431], [41, \"no\", 514], [42, \"no\", 520], [43, \"no\", 541], [44, \"no\", 452], [45, \"no\", 393], [47, \"no\", 478], [49, \"no\", 395], [50, \"no\", 431]], \"hovertemplate\": \"<b>%{hovertext}</b><br><br>answer=%{customdata[1]}<br>doc_answer_impurity=%{x}<br>credibility_impurity=%{y}<br>topic.id=%{customdata[0]}<br>count=%{customdata[2]}<extra></extra>\", \"hovertext\": [\"Can vitamin D cure COVID-19?\", \"Can vitamin C cure COVID-19?\", \"Can BCG vaccine prevent COVID-19?\", \"Can ibuprofen worsen COVID-19?\", \"Can gargling salt water prevent COVID-19?\", \"Can Ginger cure COVID-19?\", \"Can 5G antennas cause COVID-19?\", \"Can herbal tea prevent COVID-19?\", \"Can convalescent plasma cure COVID-19?\", \"Can pneumococcal vaccine prevent COVID-19?\", \"Can female sex hormones prevent COVID-19?\", \"Can drinking cow urine cure COVID-19?\", \"Can vinegar prevent COVID-19?\", \"Can convalescent plasma cure COVID-19?\", \"Can lopinavir-ritonavir cure COVID-19?\", \"Can ayurveda cure COVID-19?\", \"Can exposure to UV light prevent COVID-19?\", \"Can black seed oil treat COVID-19?\", \"Can Tamiflu help COVID-19?\", \"Can burning neem leaves treat COVID-19?\", \"Can high temperatures and humidity prevent COVID-19?\", \"Can remdesivir cure COVID-19?\", \"Can turmeric treat COVID-19?\", \"Can a vegetarian diet prevent COVID-19?\", \"Can getting a flu shot prevent COVID-19?\", \"Can ACE and ARBs worsen COVID-19?\", \"Can smoking prevent COVID-19?\", \"Can having type O blood prevent COVID-19\", \"Can Cannabis help COVID-19?\", \"Can monoclonal antibodies cure COVID-19?\", \"Can breast milk prevent COVID-19?\", \"Can Hib vaccine prevent COVID-19?\", \"Can inhalers help COVID-19?\", \"Can Omega-3 prevent COVID-19?\", \"Can IVIG cure COVID-19?\", \"Can remestemcel-l cure COVID-19?\", \"Can Homemade Vodka Sanitizer prevent COVID-19?\", \"Can Echinacea prevent COVID-19?\", \"Can drinking lemon water prevent COVID-19?\"], \"legendgroup\": \"no\", \"marker\": {\"color\": \"#636efa\", \"symbol\": \"circle\"}, \"mode\": \"markers\", \"name\": \"no\", \"orientation\": \"v\", \"showlegend\": true, \"type\": \"scatter\", \"x\": [0.27016358931625806, 0.6070394297170862, 0.0, 0.234375, 0.0, 0.8642659279778393, 0.7429081531442174, 0.1570397729215827, 0.6294896030245747, 0.04544854009776721, 0.0, 0.6948017017947088, 0.06777645659928656, 0.0, 0.16868512110726647, 0.9958076704104343, 0.7800140966403009, 0.0, 0.5555555555555556, 0.0, 0.8503383238318505, 0.0, 0.8754325259515572, 1.0, 0.0, 0.3017451679489585, 0.75, 0.0, 0.0, 0.0, 0.9134948096885814, 0.07789132055611596, 0.0, 1.0, 0.0, 0.0, 0.19424638849277698, 0.938961937716263, 0.44383797759264576], \"xaxis\": \"x\", \"y\": [0.4924006573507947, 0.46537171927390447, 0.3147230384632253, 0.03347041962648436, 0.2820348464541693, 0.8855220758663576, 0.6640431660513612, 0.14861490349833134, 0.9997480473670949, 0.08691358024691358, 0.03809171597633136, 0.96484375, 0.03389582876762364, 0.009280692266089777, 0.12752083081753413, 0.1976595314570652, 0.9860099433460515, 0.5411030176899063, 0.10249307479224376, 0.22145328719723184, 0.16322493953238376, 0.05490926513100166, 0.1110204081632653, 0.0, 0.02816759720335999, 0.9085992428339644, 0.7330555555555556, 0.04081198852162823, 0.3635904557505365, 1.0, 0.5318559556786703, 0.07789132055611596, 0.0, 0.96, 0.3305785123966942, 0.0, 0.24888888888888888, 0.9857756081137952, 0.6597222222222222], \"yaxis\": \"y\"}, {\"customdata\": [[12, \"yes\", 18], [13, \"yes\", 505], [15, \"yes\", 611], [24, \"yes\", 534], [34, \"yes\", 551], [37, \"yes\", 537], [39, \"yes\", 500]], \"hovertemplate\": \"<b>%{hovertext}</b><br><br>answer=%{customdata[1]}<br>doc_answer_impurity=%{x}<br>credibility_impurity=%{y}<br>topic.id=%{customdata[0]}<br>count=%{customdata[2]}<extra></extra>\", \"hovertext\": [\"Can dextromethorphan worsen COVID-19?\", \"Can wearing masks prevent COVID-19?\", \"Can social distancing prevent COVID-19?\", \"Can drinking alcohol worsen COVID-19?\", \"Can handwashing prevent COVID-19?\", \"Can Hydroxychloroquine worsen COVID-19?\", \"Can bleach prevent COVID-19?\"], \"legendgroup\": \"yes\", \"marker\": {\"color\": \"#EF553B\", \"symbol\": \"circle\"}, \"mode\": \"markers\", \"name\": \"yes\", \"orientation\": \"v\", \"showlegend\": true, \"type\": \"scatter\", \"x\": [0.0, 0.6228223446821269, 0.14977230561646146, 0.0, 0.0, 0.0, 0.057541691086365816], \"xaxis\": \"x\", \"y\": [0.0, 0.6116362108800673, 0.50480109739369, 0.9697542533081286, 0.24558367346938775, 0.043473010505977544, 0.0], \"yaxis\": \"y\"}],                        {\"legend\": {\"title\": {\"text\": \"answer\"}, \"tracegroupgap\": 0}, \"margin\": {\"t\": 60}, \"template\": {\"data\": {\"bar\": [{\"error_x\": {\"color\": \"#2a3f5f\"}, \"error_y\": {\"color\": \"#2a3f5f\"}, \"marker\": {\"line\": {\"color\": \"#E5ECF6\", \"width\": 0.5}}, \"type\": \"bar\"}], \"barpolar\": [{\"marker\": {\"line\": {\"color\": \"#E5ECF6\", \"width\": 0.5}}, \"type\": \"barpolar\"}], \"carpet\": [{\"aaxis\": {\"endlinecolor\": \"#2a3f5f\", \"gridcolor\": \"white\", \"linecolor\": \"white\", \"minorgridcolor\": \"white\", \"startlinecolor\": \"#2a3f5f\"}, \"baxis\": {\"endlinecolor\": \"#2a3f5f\", \"gridcolor\": \"white\", \"linecolor\": \"white\", \"minorgridcolor\": \"white\", \"startlinecolor\": \"#2a3f5f\"}, \"type\": \"carpet\"}], \"choropleth\": [{\"colorbar\": {\"outlinewidth\": 0, \"ticks\": \"\"}, \"type\": \"choropleth\"}], \"contour\": [{\"colorbar\": {\"outlinewidth\": 0, \"ticks\": \"\"}, \"colorscale\": [[0.0, \"#0d0887\"], [0.1111111111111111, \"#46039f\"], [0.2222222222222222, \"#7201a8\"], [0.3333333333333333, \"#9c179e\"], [0.4444444444444444, \"#bd3786\"], [0.5555555555555556, \"#d8576b\"], [0.6666666666666666, \"#ed7953\"], [0.7777777777777778, \"#fb9f3a\"], [0.8888888888888888, \"#fdca26\"], [1.0, \"#f0f921\"]], \"type\": \"contour\"}], \"contourcarpet\": [{\"colorbar\": {\"outlinewidth\": 0, \"ticks\": \"\"}, \"type\": \"contourcarpet\"}], \"heatmap\": [{\"colorbar\": {\"outlinewidth\": 0, \"ticks\": \"\"}, \"colorscale\": [[0.0, \"#0d0887\"], [0.1111111111111111, \"#46039f\"], [0.2222222222222222, \"#7201a8\"], [0.3333333333333333, \"#9c179e\"], [0.4444444444444444, \"#bd3786\"], [0.5555555555555556, \"#d8576b\"], [0.6666666666666666, \"#ed7953\"], [0.7777777777777778, \"#fb9f3a\"], [0.8888888888888888, \"#fdca26\"], [1.0, \"#f0f921\"]], \"type\": \"heatmap\"}], \"heatmapgl\": [{\"colorbar\": {\"outlinewidth\": 0, \"ticks\": \"\"}, \"colorscale\": [[0.0, \"#0d0887\"], [0.1111111111111111, \"#46039f\"], [0.2222222222222222, \"#7201a8\"], [0.3333333333333333, \"#9c179e\"], [0.4444444444444444, \"#bd3786\"], [0.5555555555555556, \"#d8576b\"], [0.6666666666666666, \"#ed7953\"], [0.7777777777777778, \"#fb9f3a\"], [0.8888888888888888, \"#fdca26\"], [1.0, \"#f0f921\"]], \"type\": \"heatmapgl\"}], \"histogram\": [{\"marker\": {\"colorbar\": {\"outlinewidth\": 0, \"ticks\": \"\"}}, \"type\": \"histogram\"}], \"histogram2d\": [{\"colorbar\": {\"outlinewidth\": 0, \"ticks\": \"\"}, \"colorscale\": [[0.0, \"#0d0887\"], [0.1111111111111111, \"#46039f\"], [0.2222222222222222, \"#7201a8\"], [0.3333333333333333, \"#9c179e\"], [0.4444444444444444, \"#bd3786\"], [0.5555555555555556, \"#d8576b\"], [0.6666666666666666, \"#ed7953\"], [0.7777777777777778, \"#fb9f3a\"], [0.8888888888888888, \"#fdca26\"], [1.0, \"#f0f921\"]], \"type\": \"histogram2d\"}], \"histogram2dcontour\": [{\"colorbar\": {\"outlinewidth\": 0, \"ticks\": \"\"}, \"colorscale\": [[0.0, \"#0d0887\"], [0.1111111111111111, \"#46039f\"], [0.2222222222222222, \"#7201a8\"], [0.3333333333333333, \"#9c179e\"], [0.4444444444444444, \"#bd3786\"], [0.5555555555555556, \"#d8576b\"], [0.6666666666666666, \"#ed7953\"], [0.7777777777777778, \"#fb9f3a\"], [0.8888888888888888, \"#fdca26\"], [1.0, \"#f0f921\"]], \"type\": \"histogram2dcontour\"}], \"mesh3d\": [{\"colorbar\": {\"outlinewidth\": 0, \"ticks\": \"\"}, \"type\": \"mesh3d\"}], \"parcoords\": [{\"line\": {\"colorbar\": {\"outlinewidth\": 0, \"ticks\": \"\"}}, \"type\": \"parcoords\"}], \"pie\": [{\"automargin\": true, \"type\": \"pie\"}], \"scatter\": [{\"marker\": {\"colorbar\": {\"outlinewidth\": 0, \"ticks\": \"\"}}, \"type\": \"scatter\"}], \"scatter3d\": [{\"line\": {\"colorbar\": {\"outlinewidth\": 0, \"ticks\": \"\"}}, \"marker\": {\"colorbar\": {\"outlinewidth\": 0, \"ticks\": \"\"}}, \"type\": \"scatter3d\"}], \"scattercarpet\": [{\"marker\": {\"colorbar\": {\"outlinewidth\": 0, \"ticks\": \"\"}}, \"type\": \"scattercarpet\"}], \"scattergeo\": [{\"marker\": {\"colorbar\": {\"outlinewidth\": 0, \"ticks\": \"\"}}, \"type\": \"scattergeo\"}], \"scattergl\": [{\"marker\": {\"colorbar\": {\"outlinewidth\": 0, \"ticks\": \"\"}}, \"type\": \"scattergl\"}], \"scattermapbox\": [{\"marker\": {\"colorbar\": {\"outlinewidth\": 0, \"ticks\": \"\"}}, \"type\": \"scattermapbox\"}], \"scatterpolar\": [{\"marker\": {\"colorbar\": {\"outlinewidth\": 0, \"ticks\": \"\"}}, \"type\": \"scatterpolar\"}], \"scatterpolargl\": [{\"marker\": {\"colorbar\": {\"outlinewidth\": 0, \"ticks\": \"\"}}, \"type\": \"scatterpolargl\"}], \"scatterternary\": [{\"marker\": {\"colorbar\": {\"outlinewidth\": 0, \"ticks\": \"\"}}, \"type\": \"scatterternary\"}], \"surface\": [{\"colorbar\": {\"outlinewidth\": 0, \"ticks\": \"\"}, \"colorscale\": [[0.0, \"#0d0887\"], [0.1111111111111111, \"#46039f\"], [0.2222222222222222, \"#7201a8\"], [0.3333333333333333, \"#9c179e\"], [0.4444444444444444, \"#bd3786\"], [0.5555555555555556, \"#d8576b\"], [0.6666666666666666, \"#ed7953\"], [0.7777777777777778, \"#fb9f3a\"], [0.8888888888888888, \"#fdca26\"], [1.0, \"#f0f921\"]], \"type\": \"surface\"}], \"table\": [{\"cells\": {\"fill\": {\"color\": \"#EBF0F8\"}, \"line\": {\"color\": \"white\"}}, \"header\": {\"fill\": {\"color\": \"#C8D4E3\"}, \"line\": {\"color\": \"white\"}}, \"type\": \"table\"}]}, \"layout\": {\"annotationdefaults\": {\"arrowcolor\": \"#2a3f5f\", \"arrowhead\": 0, \"arrowwidth\": 1}, \"autotypenumbers\": \"strict\", \"coloraxis\": {\"colorbar\": {\"outlinewidth\": 0, \"ticks\": \"\"}}, \"colorscale\": {\"diverging\": [[0, \"#8e0152\"], [0.1, \"#c51b7d\"], [0.2, \"#de77ae\"], [0.3, \"#f1b6da\"], [0.4, \"#fde0ef\"], [0.5, \"#f7f7f7\"], [0.6, \"#e6f5d0\"], [0.7, \"#b8e186\"], [0.8, \"#7fbc41\"], [0.9, \"#4d9221\"], [1, \"#276419\"]], \"sequential\": [[0.0, \"#0d0887\"], [0.1111111111111111, \"#46039f\"], [0.2222222222222222, \"#7201a8\"], [0.3333333333333333, \"#9c179e\"], [0.4444444444444444, \"#bd3786\"], [0.5555555555555556, \"#d8576b\"], [0.6666666666666666, \"#ed7953\"], [0.7777777777777778, \"#fb9f3a\"], [0.8888888888888888, \"#fdca26\"], [1.0, \"#f0f921\"]], \"sequentialminus\": [[0.0, \"#0d0887\"], [0.1111111111111111, \"#46039f\"], [0.2222222222222222, \"#7201a8\"], [0.3333333333333333, \"#9c179e\"], [0.4444444444444444, \"#bd3786\"], [0.5555555555555556, \"#d8576b\"], [0.6666666666666666, \"#ed7953\"], [0.7777777777777778, \"#fb9f3a\"], [0.8888888888888888, \"#fdca26\"], [1.0, \"#f0f921\"]]}, \"colorway\": [\"#636efa\", \"#EF553B\", \"#00cc96\", \"#ab63fa\", \"#FFA15A\", \"#19d3f3\", \"#FF6692\", \"#B6E880\", \"#FF97FF\", \"#FECB52\"], \"font\": {\"color\": \"#2a3f5f\"}, \"geo\": {\"bgcolor\": \"white\", \"lakecolor\": \"white\", \"landcolor\": \"#E5ECF6\", \"showlakes\": true, \"showland\": true, \"subunitcolor\": \"white\"}, \"hoverlabel\": {\"align\": \"left\"}, \"hovermode\": \"closest\", \"mapbox\": {\"style\": \"light\"}, \"paper_bgcolor\": \"white\", \"plot_bgcolor\": \"#E5ECF6\", \"polar\": {\"angularaxis\": {\"gridcolor\": \"white\", \"linecolor\": \"white\", \"ticks\": \"\"}, \"bgcolor\": \"#E5ECF6\", \"radialaxis\": {\"gridcolor\": \"white\", \"linecolor\": \"white\", \"ticks\": \"\"}}, \"scene\": {\"xaxis\": {\"backgroundcolor\": \"#E5ECF6\", \"gridcolor\": \"white\", \"gridwidth\": 2, \"linecolor\": \"white\", \"showbackground\": true, \"ticks\": \"\", \"zerolinecolor\": \"white\"}, \"yaxis\": {\"backgroundcolor\": \"#E5ECF6\", \"gridcolor\": \"white\", \"gridwidth\": 2, \"linecolor\": \"white\", \"showbackground\": true, \"ticks\": \"\", \"zerolinecolor\": \"white\"}, \"zaxis\": {\"backgroundcolor\": \"#E5ECF6\", \"gridcolor\": \"white\", \"gridwidth\": 2, \"linecolor\": \"white\", \"showbackground\": true, \"ticks\": \"\", \"zerolinecolor\": \"white\"}}, \"shapedefaults\": {\"line\": {\"color\": \"#2a3f5f\"}}, \"ternary\": {\"aaxis\": {\"gridcolor\": \"white\", \"linecolor\": \"white\", \"ticks\": \"\"}, \"baxis\": {\"gridcolor\": \"white\", \"linecolor\": \"white\", \"ticks\": \"\"}, \"bgcolor\": \"#E5ECF6\", \"caxis\": {\"gridcolor\": \"white\", \"linecolor\": \"white\", \"ticks\": \"\"}}, \"title\": {\"x\": 0.05}, \"xaxis\": {\"automargin\": true, \"gridcolor\": \"white\", \"linecolor\": \"white\", \"ticks\": \"\", \"title\": {\"standoff\": 15}, \"zerolinecolor\": \"white\", \"zerolinewidth\": 2}, \"yaxis\": {\"automargin\": true, \"gridcolor\": \"white\", \"linecolor\": \"white\", \"ticks\": \"\", \"title\": {\"standoff\": 15}, \"zerolinecolor\": \"white\", \"zerolinewidth\": 2}}}, \"xaxis\": {\"anchor\": \"y\", \"domain\": [0.0, 1.0], \"title\": {\"text\": \"doc_answer_impurity\"}}, \"yaxis\": {\"anchor\": \"x\", \"domain\": [0.0, 1.0], \"title\": {\"text\": \"credibility_impurity\"}}},                        {\"responsive\": true}                    ).then(function(){\n                            \nvar gd = document.getElementById('15536c93-cafe-4586-a1d0-03b1611c6020');\nvar x = new MutationObserver(function (mutations, observer) {{\n        var display = window.getComputedStyle(gd).display;\n        if (!display || display === 'none') {{\n            console.log([gd, 'removed!']);\n            Plotly.purge(gd);\n            observer.disconnect();\n        }}\n}});\n\n// Listen for the removal of the full notebook cells\nvar notebookContainer = gd.closest('#notebook-container');\nif (notebookContainer) {{\n    x.observe(notebookContainer, {childList: true});\n}}\n\n// Listen for the clearing of the current output cell\nvar outputEl = gd.closest('.output');\nif (outputEl) {{\n    x.observe(outputEl, {childList: true});\n}}\n\n                        })                };                });            </script>        </div>"
     },
     "metadata": {},
     "output_type": "display_data"
    }
   ],
   "source": [
    "import plotly.express as px\n",
    "fig = px.scatter(df, x=\"doc_answer_impurity\",\n",
    "                 y=\"credibility_impurity\",\n",
    "                 # size='count',\n",
    "                 color=\"answer\",\n",
    "                 hover_data=[df.index, 'answer', 'count'],\n",
    "                 hover_name='desc'\n",
    "                 )\n",
    "fig.show()"
   ],
   "metadata": {
    "collapsed": false,
    "pycharm": {
     "name": "#%%\n"
    }
   }
  },
  {
   "cell_type": "code",
   "execution_count": 177,
   "outputs": [],
   "source": [],
   "metadata": {
    "collapsed": false,
    "pycharm": {
     "name": "#%%\n"
    }
   }
  }
 ],
 "metadata": {
  "kernelspec": {
   "display_name": "Python 3",
   "language": "python",
   "name": "python3"
  },
  "language_info": {
   "codemirror_mode": {
    "name": "ipython",
    "version": 2
   },
   "file_extension": ".py",
   "mimetype": "text/x-python",
   "name": "python",
   "nbconvert_exporter": "python",
   "pygments_lexer": "ipython2",
   "version": "2.7.6"
  }
 },
 "nbformat": 4,
 "nbformat_minor": 0
}